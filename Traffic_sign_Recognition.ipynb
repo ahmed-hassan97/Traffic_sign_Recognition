{
  "nbformat": 4,
  "nbformat_minor": 0,
  "metadata": {
    "colab": {
      "name": "Traffic_sign_Recognition.ipynb",
      "provenance": [],
      "authorship_tag": "ABX9TyOcRYbl42b194TEPpqtvWvA",
      "include_colab_link": true
    },
    "kernelspec": {
      "name": "python3",
      "display_name": "Python 3"
    }
  },
  "cells": [
    {
      "cell_type": "markdown",
      "metadata": {
        "id": "view-in-github",
        "colab_type": "text"
      },
      "source": [
        "<a href=\"https://colab.research.google.com/github/ahmedhassan97/Traffic_sign_Recognition/blob/master/Traffic_sign_Recognition.ipynb\" target=\"_parent\"><img src=\"https://colab.research.google.com/assets/colab-badge.svg\" alt=\"Open In Colab\"/></a>"
      ]
    },
    {
      "cell_type": "code",
      "metadata": {
        "id": "KH7vn-CCBoQr",
        "colab_type": "code",
        "outputId": "b4d1691c-d80e-4aaa-9829-4b882cc02fa3",
        "colab": {
          "base_uri": "https://localhost:8080/",
          "height": 224
        }
      },
      "source": [
        "!pip install kaggle\n"
      ],
      "execution_count": 0,
      "outputs": [
        {
          "output_type": "stream",
          "text": [
            "Requirement already satisfied: kaggle in /usr/local/lib/python3.6/dist-packages (1.5.6)\n",
            "Requirement already satisfied: python-slugify in /usr/local/lib/python3.6/dist-packages (from kaggle) (4.0.0)\n",
            "Requirement already satisfied: six>=1.10 in /usr/local/lib/python3.6/dist-packages (from kaggle) (1.12.0)\n",
            "Requirement already satisfied: urllib3<1.25,>=1.21.1 in /usr/local/lib/python3.6/dist-packages (from kaggle) (1.24.3)\n",
            "Requirement already satisfied: requests in /usr/local/lib/python3.6/dist-packages (from kaggle) (2.21.0)\n",
            "Requirement already satisfied: python-dateutil in /usr/local/lib/python3.6/dist-packages (from kaggle) (2.8.1)\n",
            "Requirement already satisfied: tqdm in /usr/local/lib/python3.6/dist-packages (from kaggle) (4.38.0)\n",
            "Requirement already satisfied: certifi in /usr/local/lib/python3.6/dist-packages (from kaggle) (2019.11.28)\n",
            "Requirement already satisfied: text-unidecode>=1.3 in /usr/local/lib/python3.6/dist-packages (from python-slugify->kaggle) (1.3)\n",
            "Requirement already satisfied: chardet<3.1.0,>=3.0.2 in /usr/local/lib/python3.6/dist-packages (from requests->kaggle) (3.0.4)\n",
            "Requirement already satisfied: idna<2.9,>=2.5 in /usr/local/lib/python3.6/dist-packages (from requests->kaggle) (2.8)\n"
          ],
          "name": "stdout"
        }
      ]
    },
    {
      "cell_type": "code",
      "metadata": {
        "id": "lZ0uCASBc9t5",
        "colab_type": "code",
        "colab": {}
      },
      "source": [
        ""
      ],
      "execution_count": 0,
      "outputs": []
    },
    {
      "cell_type": "code",
      "metadata": {
        "id": "HAag0cPnEr7z",
        "colab_type": "code",
        "colab": {}
      },
      "source": [
        "!mkdir -p ~/.kaggle\n",
        "!cp kaggle.json ~/.kaggle/\n",
        "\n",
        "#change permission\n",
        "!chmod 600 ~/.kaggle/kaggle.json"
      ],
      "execution_count": 0,
      "outputs": []
    },
    {
      "cell_type": "code",
      "metadata": {
        "id": "05g8kQ9pGAyc",
        "colab_type": "code",
        "outputId": "5fcd348a-89c6-4a0b-d940-b56cff4b249a",
        "colab": {
          "base_uri": "https://localhost:8080/",
          "height": 68
        }
      },
      "source": [
        "!kaggle datasets download -d meowmeowmeowmeowmeow/gtsrb-german-traffic-sign\n"
      ],
      "execution_count": 0,
      "outputs": [
        {
          "output_type": "stream",
          "text": [
            "Downloading gtsrb-german-traffic-sign.zip to /content\n",
            " 98% 601M/612M [00:05<00:00, 116MB/s]\n",
            "100% 612M/612M [00:05<00:00, 122MB/s]\n"
          ],
          "name": "stdout"
        }
      ]
    },
    {
      "cell_type": "code",
      "metadata": {
        "id": "mabhbIflGROC",
        "colab_type": "code",
        "outputId": "69f74297-b062-486c-e73e-7cab9ea0ea59",
        "colab": {
          "base_uri": "https://localhost:8080/",
          "height": 34
        }
      },
      "source": [
        "#zip file\n",
        "from zipfile import ZipFile\n",
        "file_name = \"data.zip\"\n",
        "\n",
        "with ZipFile(file_name, 'r') as zip:\n",
        "  zip.extractall()\n",
        "  print('done')"
      ],
      "execution_count": 0,
      "outputs": [
        {
          "output_type": "stream",
          "text": [
            "done\n"
          ],
          "name": "stdout"
        }
      ]
    },
    {
      "cell_type": "markdown",
      "metadata": {
        "id": "1kjdzXy_OY42",
        "colab_type": "text"
      },
      "source": [
        "Steps to Build the Python Project\n",
        "\n"
      ]
    },
    {
      "cell_type": "markdown",
      "metadata": {
        "id": "Q8zwrwgsPkkK",
        "colab_type": "text"
      },
      "source": [
        "Create a Python script file and name it  in\n",
        "\n",
        "the project folder.\n",
        "\n",
        "Our approach to building this traffic sign classification\n",
        "\n",
        "**************************************************************************************************************************\n",
        "\n",
        "model is discussed in four steps:\n",
        "\n",
        "Explore the dataset\n",
        "\n",
        "Build a CNN model\n",
        "\n",
        "Train and validate the model\n",
        "\n",
        "Test the model with test dataset"
      ]
    },
    {
      "cell_type": "markdown",
      "metadata": {
        "id": "xvH2rxFnQsSN",
        "colab_type": "text"
      },
      "source": [
        "*** Step 1: Explore the dataset\n",
        "\n",
        "Our ‘train’ folder contains 43 folders each representing a\n",
        "\n",
        "different class. The range of the folder is from 0 to 42. \n",
        "\n",
        "With the help of the OS module, we iterate over all the\n",
        "\n",
        " classes and append images and their respective labels in \n",
        " \n",
        " the data and labels list.***"
      ]
    },
    {
      "cell_type": "markdown",
      "metadata": {
        "id": "8Ji7049WT3Ou",
        "colab_type": "text"
      },
      "source": [
        "import libraries"
      ]
    },
    {
      "cell_type": "code",
      "metadata": {
        "id": "CK87IUhQT90W",
        "colab_type": "code",
        "colab": {}
      },
      "source": [
        "import numpy as np \n",
        "import pandas as pd \n",
        "import matplotlib.pyplot as plt\n",
        "import cv2\n",
        "import tensorflow as tf\n",
        "from PIL import Image\n",
        "import os\n",
        "from sklearn.model_selection import train_test_split\n",
        "from keras.utils import to_categorical\n",
        "from keras.models import Sequential, load_model\n",
        "from keras.layers import Conv2D, MaxPool2D, Dense, Flatten, Dropout\n"
      ],
      "execution_count": 0,
      "outputs": []
    },
    {
      "cell_type": "code",
      "metadata": {
        "id": "pha-D5mHULvH",
        "colab_type": "code",
        "colab": {}
      },
      "source": [
        "data = []\n",
        "labels = []\n",
        "classes = 43\n",
        "cur_path = os.getcwd()"
      ],
      "execution_count": 0,
      "outputs": []
    },
    {
      "cell_type": "code",
      "metadata": {
        "id": "ZbbJNuxrm0m6",
        "colab_type": "code",
        "outputId": "867cd129-5012-4cdd-8bb6-10afbcf6f870",
        "colab": {
          "base_uri": "https://localhost:8080/",
          "height": 34
        }
      },
      "source": [
        "print(cur_path)"
      ],
      "execution_count": 47,
      "outputs": [
        {
          "output_type": "stream",
          "text": [
            "/content\n"
          ],
          "name": "stdout"
        }
      ]
    },
    {
      "cell_type": "markdown",
      "metadata": {
        "id": "_RSb4Q8i04w4",
        "colab_type": "text"
      },
      "source": [
        "*** list files of train***"
      ]
    },
    {
      "cell_type": "code",
      "metadata": {
        "id": "ZB5BxkkVm6gN",
        "colab_type": "code",
        "colab": {}
      },
      "source": [
        "DATADIR = \"train\"\n",
        "  \n",
        "CATEGORIES =[ x for x in range(43)]\n",
        "\n",
        "#classes = list(CATEGORIES)\n",
        "\n",
        "#print(list(CATEGORIES))\n",
        "cur_path = os.getcwd()\n"
      ],
      "execution_count": 0,
      "outputs": []
    },
    {
      "cell_type": "code",
      "metadata": {
        "id": "0p8StZo81CZD",
        "colab_type": "code",
        "colab": {}
      },
      "source": [
        "for i in range(len(classes)):\n",
        "    path = os.path.join(cur_path,'train',str(i))\n",
        "    images = os.listdir(path)\n",
        "    for a in images:\n",
        "       \n",
        "            image = Image.open(path + '/'+ a)           \n",
        "            image = image.resize((30,30))\n",
        "            image = np.array(image)\n",
        "            #sim = Image.fromarray(image)\n",
        "            data.append(image)\n",
        "            labels.append(i)\n",
        "        \n",
        "\n",
        "   "
      ],
      "execution_count": 0,
      "outputs": []
    },
    {
      "cell_type": "code",
      "metadata": {
        "id": "W6nRRjtm65pr",
        "colab_type": "code",
        "colab": {
          "base_uri": "https://localhost:8080/",
          "height": 34
        },
        "outputId": "e25be5a0-2cb7-4e51-86ee-136ca8718cf3"
      },
      "source": [
        "#Converting lists into numpy arrays\n",
        "data = np.array(data)\n",
        "labels = np.array(labels)\n",
        "print(data.shape, labels.shape)"
      ],
      "execution_count": 73,
      "outputs": [
        {
          "output_type": "stream",
          "text": [
            "(39209, 30, 30, 3) (39209,)\n"
          ],
          "name": "stdout"
        }
      ]
    }
  ]
}